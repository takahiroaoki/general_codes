{
  "nbformat": 4,
  "nbformat_minor": 0,
  "metadata": {
    "colab": {
      "name": "r_script.ipynb",
      "provenance": [],
      "collapsed_sections": []
    },
    "kernelspec": {
      "name": "ir",
      "display_name": "R"
    }
  },
  "cells": [
    {
      "cell_type": "markdown",
      "metadata": {
        "id": "YhCEqEON9r_5"
      },
      "source": [
        "# **READ ME**\n",
        "This is an iPython file, but the type of runtime is R language. You can make R code run. Operation check is only done on google colaboratory. When this file doesn't work, check the \"runtime\" bar and change the type of runtime."
      ]
    },
    {
      "cell_type": "code",
      "metadata": {
        "id": "R4_7dLqv9KSj",
        "outputId": "7d16b35a-70c4-4db9-d9b3-073e19cfe979",
        "colab": {
          "base_uri": "https://localhost:8080/"
        }
      },
      "source": [
        "vec <- c(1, 3, 5, 2)\n",
        "print(vec)"
      ],
      "execution_count": null,
      "outputs": [
        {
          "output_type": "stream",
          "text": [
            "[1] 1 3 5 2\n"
          ],
          "name": "stdout"
        }
      ]
    },
    {
      "cell_type": "code",
      "metadata": {
        "id": "z5ixNMtL-1KP"
      },
      "source": [
        ""
      ],
      "execution_count": null,
      "outputs": []
    }
  ]
}